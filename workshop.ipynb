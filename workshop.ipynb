{
 "cells": [
  {
   "cell_type": "markdown",
   "metadata": {},
   "source": [
    "## Device Versions used in the lab\n",
    "\n",
    "```\n",
    "XRv9000 - 7.9.2\n",
    "Linux Host 1/2/Mgmt - Ubuntu 22.04 \n",
    "```\n",
    "### IOS-XR Configuration\n",
    "\n",
    "IOS XR comes with a NETCONF server that can be activated using the following commands:\n",
    " ```\n",
    " netconf-yang agent ssh\n",
    " netconf agent tty\n",
    " \n",
    " ssh server v2\n",
    " ssh server netconf vrf default\n",
    " ```\n",
    " \n",
    " By default, the server will open port 830 for NETCONF communication."
   ]
  }
 ],
 "metadata": {
  "kernelspec": {
   "display_name": "Python 3",
   "language": "python",
   "name": "python3"
  },
  "language_info": {
   "codemirror_mode": {
    "name": "ipython",
    "version": 3
   },
   "file_extension": ".py",
   "mimetype": "text/x-python",
   "name": "python",
   "nbconvert_exporter": "python",
   "pygments_lexer": "ipython3",
   "version": "3.9.16"
  }
 },
 "nbformat": 4,
 "nbformat_minor": 4
}
